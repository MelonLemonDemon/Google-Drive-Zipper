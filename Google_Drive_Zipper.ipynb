{
  "nbformat": 4,
  "nbformat_minor": 0,
  "metadata": {
    "colab": {
      "name": "Google Drive Zipper",
      "provenance": [],
      "include_colab_link": true
    },
    "kernelspec": {
      "name": "python3",
      "display_name": "Python 3"
    }
  },
  "cells": [
    {
      "cell_type": "markdown",
      "metadata": {
        "id": "view-in-github",
        "colab_type": "text"
      },
      "source": [
        "<a href=\"https://colab.research.google.com/github/MelonLemonDemon/Google-Drive-Zipper/blob/main/Google_Drive_Zipper.ipynb\" target=\"_parent\"><img src=\"https://colab.research.google.com/assets/colab-badge.svg\" alt=\"Open In Colab\"/></a>"
      ]
    },
    {
      "cell_type": "markdown",
      "metadata": {
        "id": "uBs4XgMHSwSk"
      },
      "source": [
        "# Google Drive Zipper"
      ]
    },
    {
      "cell_type": "code",
      "metadata": {
        "id": "kWtah6dEapwJ",
        "cellView": "form"
      },
      "source": [
        "#@title ![Basic](https://img.shields.io/badge/-blue?logo=google-drive&logoColor=white&style=for-the-badge) Mount to Google Drive\r\n",
        "#@markdown Run this cell to start the zipping process.\r\n",
        "\r\n",
        "from google.colab import drive \r\n",
        "drive.mount('/content/gdrive')  "
      ],
      "execution_count": null,
      "outputs": []
    },
    {
      "cell_type": "markdown",
      "metadata": {
        "id": "Hxsa8MEGSRpx"
      },
      "source": [
        "## Point to the Working Directory\r\n",
        "\r\n",
        "Input the working directory of the file/folder.\r\n",
        "\r\n",
        "If you don't know the directory, go to the sidebar and click on the folder icon. Navigate to the working directory and **Right Click** -> **Copy Path** -> **Paste to `working_directory`**\r\n",
        "\r\n",
        "### Example\r\n",
        "\r\n",
        "Folder to zip: `\"Dummy Folder\"` in `\"gdrive/MyDrive/Torrent/\"`\r\n",
        "<br>\r\n",
        "File to zip: `\"Dummy File.txt\"` in `\"gdrive/MyDrive/Torrent/\"`\r\n",
        "\r\n",
        "in this example, `working_directory` = `\"gdrive/MyDrive/Torrent/\"`"
      ]
    },
    {
      "cell_type": "code",
      "metadata": {
        "id": "e-I8S9Dvcdkq",
        "cellView": "form"
      },
      "source": [
        "working_directory = 'gdrive/MyDrive/' #@param {type: \"string\"}\r\n",
        "\r\n",
        "!cd \"$working_directory\""
      ],
      "execution_count": null,
      "outputs": []
    },
    {
      "cell_type": "markdown",
      "metadata": {
        "id": "EMPF3GzKzw8A"
      },
      "source": [
        "## Zipping the File"
      ]
    },
    {
      "cell_type": "code",
      "metadata": {
        "cellView": "form",
        "id": "vovsktHRmC3m"
      },
      "source": [
        "#@markdown `filefolder_name: the name of the file/folder you want to zip (ex., my_folder, my_file.txt).`\r\n",
        "filefolder_name = '' #@param  {type: \"string\"}\r\n",
        "#@markdown `Enter zip file name (ex. my_zipfile.zip).`\r\n",
        "zip_name = '' #@param {type:\"string\"}\r\n",
        "\r\n",
        "# In case user forgets to put \".zip\" extension\r\n",
        "zip_check = zip_name.endswith(\".zip\")\r\n",
        "if zip_check == False:\r\n",
        "  zip_name = zip_name + \".zip\"\r\n",
        "\r\n",
        "filefolder_dir = working_directory + \"/\" + filefolder_name\r\n",
        "zip_dir = working_directory + \"/\" + zip_name\r\n",
        "\r\n",
        "print(\"!zip -r \" + zip_dir + \" \" + filefolder_dir)\r\n",
        "!zip -r \"$zip_dir\" \"$filefolder_dir\"\r\n",
        "\r\n",
        "# !zip -r \"$working_directory/Dummy File.zip\" \"$working_directory/Dummy File.pdf\""
      ],
      "execution_count": null,
      "outputs": []
    }
  ]
}